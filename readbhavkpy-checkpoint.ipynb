{
 "cells": [
  {
   "cell_type": "code",
   "execution_count": 1,
   "id": "446dc206",
   "metadata": {},
   "outputs": [],
   "source": [
    "import pandas as pd"
   ]
  },
  {
   "cell_type": "code",
   "execution_count": 13,
   "id": "b0db9ac9",
   "metadata": {},
   "outputs": [],
   "source": [
    "df1=pd.read_csv('bhav10.csv',skipinitialspace=True)"
   ]
  },
  {
   "cell_type": "code",
   "execution_count": 14,
   "id": "899cf862",
   "metadata": {},
   "outputs": [
    {
     "data": {
      "text/html": [
       "<div>\n",
       "<style scoped>\n",
       "    .dataframe tbody tr th:only-of-type {\n",
       "        vertical-align: middle;\n",
       "    }\n",
       "\n",
       "    .dataframe tbody tr th {\n",
       "        vertical-align: top;\n",
       "    }\n",
       "\n",
       "    .dataframe thead th {\n",
       "        text-align: right;\n",
       "    }\n",
       "</style>\n",
       "<table border=\"1\" class=\"dataframe\">\n",
       "  <thead>\n",
       "    <tr style=\"text-align: right;\">\n",
       "      <th></th>\n",
       "      <th>SYMBOL</th>\n",
       "      <th>SERIES</th>\n",
       "      <th>OPEN</th>\n",
       "      <th>HIGH</th>\n",
       "      <th>LOW</th>\n",
       "      <th>CLOSE</th>\n",
       "      <th>LAST</th>\n",
       "      <th>PREVCLOSE</th>\n",
       "      <th>TOTTRDQTY</th>\n",
       "      <th>TOTTRDVAL</th>\n",
       "      <th>TIMESTAMP</th>\n",
       "      <th>TOTALTRADES</th>\n",
       "      <th>ISIN</th>\n",
       "      <th>Unnamed: 13</th>\n",
       "    </tr>\n",
       "  </thead>\n",
       "  <tbody>\n",
       "    <tr>\n",
       "      <th>0</th>\n",
       "      <td>20MICRONS</td>\n",
       "      <td>EQ</td>\n",
       "      <td>85.75</td>\n",
       "      <td>91.75</td>\n",
       "      <td>84.40</td>\n",
       "      <td>88.65</td>\n",
       "      <td>88.50</td>\n",
       "      <td>85.55</td>\n",
       "      <td>430856</td>\n",
       "      <td>38287657.20</td>\n",
       "      <td>10-FEB-2022</td>\n",
       "      <td>5063</td>\n",
       "      <td>INE144J01027</td>\n",
       "      <td>NaN</td>\n",
       "    </tr>\n",
       "    <tr>\n",
       "      <th>1</th>\n",
       "      <td>21STCENMGM</td>\n",
       "      <td>EQ</td>\n",
       "      <td>38.15</td>\n",
       "      <td>38.15</td>\n",
       "      <td>38.15</td>\n",
       "      <td>38.15</td>\n",
       "      <td>38.15</td>\n",
       "      <td>38.90</td>\n",
       "      <td>2179</td>\n",
       "      <td>83128.85</td>\n",
       "      <td>10-FEB-2022</td>\n",
       "      <td>36</td>\n",
       "      <td>INE253B01015</td>\n",
       "      <td>NaN</td>\n",
       "    </tr>\n",
       "    <tr>\n",
       "      <th>2</th>\n",
       "      <td>3IINFOLTD</td>\n",
       "      <td>EQ</td>\n",
       "      <td>70.10</td>\n",
       "      <td>71.20</td>\n",
       "      <td>70.10</td>\n",
       "      <td>70.10</td>\n",
       "      <td>70.10</td>\n",
       "      <td>73.75</td>\n",
       "      <td>800413</td>\n",
       "      <td>56119100.40</td>\n",
       "      <td>10-FEB-2022</td>\n",
       "      <td>3689</td>\n",
       "      <td>INE748C01038</td>\n",
       "      <td>NaN</td>\n",
       "    </tr>\n",
       "    <tr>\n",
       "      <th>3</th>\n",
       "      <td>3MINDIA</td>\n",
       "      <td>EQ</td>\n",
       "      <td>24001.00</td>\n",
       "      <td>24347.00</td>\n",
       "      <td>23656.60</td>\n",
       "      <td>23767.95</td>\n",
       "      <td>23755.00</td>\n",
       "      <td>24083.15</td>\n",
       "      <td>2447</td>\n",
       "      <td>58543984.30</td>\n",
       "      <td>10-FEB-2022</td>\n",
       "      <td>1206</td>\n",
       "      <td>INE470A01017</td>\n",
       "      <td>NaN</td>\n",
       "    </tr>\n",
       "    <tr>\n",
       "      <th>4</th>\n",
       "      <td>3PLAND</td>\n",
       "      <td>BE</td>\n",
       "      <td>18.75</td>\n",
       "      <td>18.95</td>\n",
       "      <td>17.85</td>\n",
       "      <td>18.80</td>\n",
       "      <td>18.80</td>\n",
       "      <td>18.75</td>\n",
       "      <td>11219</td>\n",
       "      <td>203382.15</td>\n",
       "      <td>10-FEB-2022</td>\n",
       "      <td>105</td>\n",
       "      <td>INE105C01023</td>\n",
       "      <td>NaN</td>\n",
       "    </tr>\n",
       "  </tbody>\n",
       "</table>\n",
       "</div>"
      ],
      "text/plain": [
       "       SYMBOL SERIES      OPEN      HIGH       LOW     CLOSE      LAST  \\\n",
       "0   20MICRONS     EQ     85.75     91.75     84.40     88.65     88.50   \n",
       "1  21STCENMGM     EQ     38.15     38.15     38.15     38.15     38.15   \n",
       "2   3IINFOLTD     EQ     70.10     71.20     70.10     70.10     70.10   \n",
       "3     3MINDIA     EQ  24001.00  24347.00  23656.60  23767.95  23755.00   \n",
       "4      3PLAND     BE     18.75     18.95     17.85     18.80     18.80   \n",
       "\n",
       "   PREVCLOSE  TOTTRDQTY    TOTTRDVAL    TIMESTAMP  TOTALTRADES          ISIN  \\\n",
       "0      85.55     430856  38287657.20  10-FEB-2022         5063  INE144J01027   \n",
       "1      38.90       2179     83128.85  10-FEB-2022           36  INE253B01015   \n",
       "2      73.75     800413  56119100.40  10-FEB-2022         3689  INE748C01038   \n",
       "3   24083.15       2447  58543984.30  10-FEB-2022         1206  INE470A01017   \n",
       "4      18.75      11219    203382.15  10-FEB-2022          105  INE105C01023   \n",
       "\n",
       "   Unnamed: 13  \n",
       "0          NaN  \n",
       "1          NaN  \n",
       "2          NaN  \n",
       "3          NaN  \n",
       "4          NaN  "
      ]
     },
     "execution_count": 14,
     "metadata": {},
     "output_type": "execute_result"
    }
   ],
   "source": [
    "df1.head()"
   ]
  },
  {
   "cell_type": "code",
   "execution_count": 15,
   "id": "a262341a",
   "metadata": {},
   "outputs": [
    {
     "name": "stdout",
     "output_type": "stream",
     "text": [
      "float64\n"
     ]
    }
   ],
   "source": [
    "print(df1['HIGH'].dtype)"
   ]
  },
  {
   "cell_type": "code",
   "execution_count": null,
   "id": "77648fcc",
   "metadata": {},
   "outputs": [],
   "source": []
  }
 ],
 "metadata": {
  "kernelspec": {
   "display_name": "Python 3 (ipykernel)",
   "language": "python",
   "name": "python3"
  },
  "language_info": {
   "codemirror_mode": {
    "name": "ipython",
    "version": 3
   },
   "file_extension": ".py",
   "mimetype": "text/x-python",
   "name": "python",
   "nbconvert_exporter": "python",
   "pygments_lexer": "ipython3",
   "version": "3.9.1"
  }
 },
 "nbformat": 4,
 "nbformat_minor": 5
}
