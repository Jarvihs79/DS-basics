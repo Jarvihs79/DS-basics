{
 "cells": [
  {
   "cell_type": "code",
   "execution_count": 1,
   "id": "51cd7e3d",
   "metadata": {},
   "outputs": [],
   "source": [
    "import pandas as pd"
   ]
  },
  {
   "cell_type": "code",
   "execution_count": 2,
   "id": "e4762fa2",
   "metadata": {},
   "outputs": [],
   "source": [
    "df=pd.read_csv(\"16feb.csv\", skipinitialspace=True)"
   ]
  },
  {
   "cell_type": "code",
   "execution_count": 3,
   "id": "207790e4",
   "metadata": {},
   "outputs": [],
   "source": [
    "df.replace(\"-\",\"\",inplace=True)"
   ]
  },
  {
   "cell_type": "code",
   "execution_count": 4,
   "id": "df0a10d3",
   "metadata": {},
   "outputs": [],
   "source": [
    "df[\"CHANGE\"]=df[\"CLOSE_PRICE\"]-df[\"PREV_CLOSE\"]"
   ]
  },
  {
   "cell_type": "code",
   "execution_count": 7,
   "id": "cfa9f697",
   "metadata": {},
   "outputs": [],
   "source": [
    "df[\"DELIV_PER\"]=pd.to_numeric(df['DELIV_PER'])"
   ]
  },
  {
   "cell_type": "code",
   "execution_count": 9,
   "id": "e31bb72d",
   "metadata": {},
   "outputs": [],
   "source": [
    "data=df[\"SYMBOL\"][(df.SERIES==\"EQ\")&(df.DELIV_PER>=90)&(df[\"CHANGE\"]>0)]"
   ]
  },
  {
   "cell_type": "code",
   "execution_count": 10,
   "id": "7e3876b4",
   "metadata": {},
   "outputs": [],
   "source": [
    "ndf=pd.DataFrame(data)"
   ]
  },
  {
   "cell_type": "code",
   "execution_count": 11,
   "id": "50bc0bb8",
   "metadata": {},
   "outputs": [
    {
     "data": {
      "text/html": [
       "<div>\n",
       "<style scoped>\n",
       "    .dataframe tbody tr th:only-of-type {\n",
       "        vertical-align: middle;\n",
       "    }\n",
       "\n",
       "    .dataframe tbody tr th {\n",
       "        vertical-align: top;\n",
       "    }\n",
       "\n",
       "    .dataframe thead th {\n",
       "        text-align: right;\n",
       "    }\n",
       "</style>\n",
       "<table border=\"1\" class=\"dataframe\">\n",
       "  <thead>\n",
       "    <tr style=\"text-align: right;\">\n",
       "      <th></th>\n",
       "      <th>SYMBOL</th>\n",
       "    </tr>\n",
       "  </thead>\n",
       "  <tbody>\n",
       "    <tr>\n",
       "      <th>194</th>\n",
       "      <td>AXISCETF</td>\n",
       "    </tr>\n",
       "    <tr>\n",
       "      <th>478</th>\n",
       "      <td>DSPN50ETF</td>\n",
       "    </tr>\n",
       "    <tr>\n",
       "      <th>495</th>\n",
       "      <td>EBBETF0425</td>\n",
       "    </tr>\n",
       "    <tr>\n",
       "      <th>496</th>\n",
       "      <td>EBBETF0430</td>\n",
       "    </tr>\n",
       "    <tr>\n",
       "      <th>497</th>\n",
       "      <td>EBBETF0431</td>\n",
       "    </tr>\n",
       "    <tr>\n",
       "      <th>576</th>\n",
       "      <td>FMGOETZE</td>\n",
       "    </tr>\n",
       "    <tr>\n",
       "      <th>578</th>\n",
       "      <td>FOCUS</td>\n",
       "    </tr>\n",
       "    <tr>\n",
       "      <th>606</th>\n",
       "      <td>GENESYS</td>\n",
       "    </tr>\n",
       "    <tr>\n",
       "      <th>786</th>\n",
       "      <td>ICICI500</td>\n",
       "    </tr>\n",
       "    <tr>\n",
       "      <th>808</th>\n",
       "      <td>ICICISILVE</td>\n",
       "    </tr>\n",
       "    <tr>\n",
       "      <th>940</th>\n",
       "      <td>IVZINGOLD</td>\n",
       "    </tr>\n",
       "    <tr>\n",
       "      <th>987</th>\n",
       "      <td>JPOLYINVST</td>\n",
       "    </tr>\n",
       "    <tr>\n",
       "      <th>992</th>\n",
       "      <td>JSWHL</td>\n",
       "    </tr>\n",
       "    <tr>\n",
       "      <th>1172</th>\n",
       "      <td>MAN50ETF</td>\n",
       "    </tr>\n",
       "    <tr>\n",
       "      <th>1200</th>\n",
       "      <td>MATRIMONY</td>\n",
       "    </tr>\n",
       "    <tr>\n",
       "      <th>1259</th>\n",
       "      <td>MONARCH</td>\n",
       "    </tr>\n",
       "    <tr>\n",
       "      <th>1327</th>\n",
       "      <td>NETFNIF100</td>\n",
       "    </tr>\n",
       "    <tr>\n",
       "      <th>1328</th>\n",
       "      <td>NETFNV20</td>\n",
       "    </tr>\n",
       "    <tr>\n",
       "      <th>1494</th>\n",
       "      <td>PRAKASHSTL</td>\n",
       "    </tr>\n",
       "    <tr>\n",
       "      <th>1522</th>\n",
       "      <td>PVP</td>\n",
       "    </tr>\n",
       "    <tr>\n",
       "      <th>1622</th>\n",
       "      <td>SAGCEM</td>\n",
       "    </tr>\n",
       "    <tr>\n",
       "      <th>1677</th>\n",
       "      <td>SETF10GILT</td>\n",
       "    </tr>\n",
       "    <tr>\n",
       "      <th>1735</th>\n",
       "      <td>SHAHALLOYS</td>\n",
       "    </tr>\n",
       "    <tr>\n",
       "      <th>1781</th>\n",
       "      <td>SILVER</td>\n",
       "    </tr>\n",
       "    <tr>\n",
       "      <th>1801</th>\n",
       "      <td>SMSLIFE</td>\n",
       "    </tr>\n",
       "    <tr>\n",
       "      <th>1811</th>\n",
       "      <td>SOMATEX</td>\n",
       "    </tr>\n",
       "    <tr>\n",
       "      <th>1962</th>\n",
       "      <td>TECH</td>\n",
       "    </tr>\n",
       "    <tr>\n",
       "      <th>1963</th>\n",
       "      <td>TECHIN</td>\n",
       "    </tr>\n",
       "    <tr>\n",
       "      <th>2064</th>\n",
       "      <td>UTISXN50</td>\n",
       "    </tr>\n",
       "    <tr>\n",
       "      <th>2138</th>\n",
       "      <td>WESTLIFE</td>\n",
       "    </tr>\n",
       "    <tr>\n",
       "      <th>2163</th>\n",
       "      <td>ZENITHEXPO</td>\n",
       "    </tr>\n",
       "  </tbody>\n",
       "</table>\n",
       "</div>"
      ],
      "text/plain": [
       "          SYMBOL\n",
       "194     AXISCETF\n",
       "478    DSPN50ETF\n",
       "495   EBBETF0425\n",
       "496   EBBETF0430\n",
       "497   EBBETF0431\n",
       "576     FMGOETZE\n",
       "578        FOCUS\n",
       "606      GENESYS\n",
       "786     ICICI500\n",
       "808   ICICISILVE\n",
       "940    IVZINGOLD\n",
       "987   JPOLYINVST\n",
       "992        JSWHL\n",
       "1172    MAN50ETF\n",
       "1200   MATRIMONY\n",
       "1259     MONARCH\n",
       "1327  NETFNIF100\n",
       "1328    NETFNV20\n",
       "1494  PRAKASHSTL\n",
       "1522         PVP\n",
       "1622      SAGCEM\n",
       "1677  SETF10GILT\n",
       "1735  SHAHALLOYS\n",
       "1781      SILVER\n",
       "1801     SMSLIFE\n",
       "1811     SOMATEX\n",
       "1962        TECH\n",
       "1963      TECHIN\n",
       "2064    UTISXN50\n",
       "2138    WESTLIFE\n",
       "2163  ZENITHEXPO"
      ]
     },
     "execution_count": 11,
     "metadata": {},
     "output_type": "execute_result"
    }
   ],
   "source": [
    "ndf"
   ]
  },
  {
   "cell_type": "code",
   "execution_count": 12,
   "id": "d32dec72",
   "metadata": {},
   "outputs": [
    {
     "ename": "TypeError",
     "evalue": "'tuple' object is not callable",
     "output_type": "error",
     "traceback": [
      "\u001b[1;31m---------------------------------------------------------------------------\u001b[0m",
      "\u001b[1;31mTypeError\u001b[0m                                 Traceback (most recent call last)",
      "Input \u001b[1;32mIn [12]\u001b[0m, in \u001b[0;36m<module>\u001b[1;34m\u001b[0m\n\u001b[1;32m----> 1\u001b[0m \u001b[43mndf\u001b[49m\u001b[38;5;241;43m.\u001b[39;49m\u001b[43mshape\u001b[49m\u001b[43m(\u001b[49m\u001b[43m)\u001b[49m\n",
      "\u001b[1;31mTypeError\u001b[0m: 'tuple' object is not callable"
     ]
    }
   ],
   "source": [
    "ndf.shape()"
   ]
  },
  {
   "cell_type": "code",
   "execution_count": null,
   "id": "3164c0e9",
   "metadata": {},
   "outputs": [],
   "source": []
  }
 ],
 "metadata": {
  "kernelspec": {
   "display_name": "Python 3 (ipykernel)",
   "language": "python",
   "name": "python3"
  },
  "language_info": {
   "codemirror_mode": {
    "name": "ipython",
    "version": 3
   },
   "file_extension": ".py",
   "mimetype": "text/x-python",
   "name": "python",
   "nbconvert_exporter": "python",
   "pygments_lexer": "ipython3",
   "version": "3.9.1"
  }
 },
 "nbformat": 4,
 "nbformat_minor": 5
}
